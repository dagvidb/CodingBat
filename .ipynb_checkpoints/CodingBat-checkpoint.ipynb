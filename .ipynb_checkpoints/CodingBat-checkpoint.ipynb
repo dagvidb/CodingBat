{
 "cells": [
  {
   "cell_type": "markdown",
   "id": "3222e293",
   "metadata": {},
   "source": [
    "# Fun with CodingBat\n",
    "\n",
    "Here you can find my bad attempt at solutions to the CodingBat exercises for python. They can be found at codingbat.com/"
   ]
  },
  {
   "cell_type": "markdown",
   "id": "8154ffe4",
   "metadata": {},
   "source": [
    "## Warmup-1"
   ]
  },
  {
   "cell_type": "markdown",
   "id": "adeb1c83",
   "metadata": {},
   "source": [
    "### sleep_in\n",
    "\n",
    "source: https://codingbat.com/prob/p173401\n",
    "\n",
    "The parameter weekday is True if it is a weekday, and the parameter vacation is True if we are on vacation. We sleep in if it is not a weekday or we're on vacation. Return True if we sleep in.\n",
    "\n",
    "\n",
    "sleep_in(False, False) → True \n",
    "\n",
    "sleep_in(True, False) → False \n",
    "\n",
    "sleep_in(False, True) → True \n",
    "\n"
   ]
  },
  {
   "cell_type": "code",
   "execution_count": 8,
   "id": "9e0e6a8c",
   "metadata": {},
   "outputs": [
    {
     "name": "stdout",
     "output_type": "stream",
     "text": [
      "True\n",
      "False\n",
      "True\n"
     ]
    }
   ],
   "source": [
    "def sleep_in(weekday, vacation):\n",
    "    if not weekday or vacation:\n",
    "        return True\n",
    "    else:\n",
    "        return False\n",
    "\n",
    "\n",
    "print(sleep_in(False, False))\n",
    "print(sleep_in(True, False))\n",
    "print(sleep_in(False, True))"
   ]
  },
  {
   "cell_type": "markdown",
   "id": "606db033",
   "metadata": {},
   "source": [
    "### diff21\n",
    "source: https://codingbat.com/prob/p197466\n",
    "\n",
    "Given an int n, return the absolute difference between n and 21, except return double the absolute difference if n is over 21.\n",
    "\n",
    "diff21(19) → 2\n",
    "\n",
    "diff21(10) → 11\n",
    "\n",
    "diff21(21) → 0"
   ]
  },
  {
   "cell_type": "code",
   "execution_count": 12,
   "id": "67a7f093",
   "metadata": {},
   "outputs": [
    {
     "name": "stdout",
     "output_type": "stream",
     "text": [
      "2\n",
      "11\n",
      "0\n"
     ]
    }
   ],
   "source": [
    "def diff21(n):\n",
    "    if n > 21:\n",
    "        return 2 * abs(n - 21)\n",
    "    else:\n",
    "        return abs(n - 21)\n",
    "\n",
    "\n",
    "print(diff21(19))\n",
    "print(diff21(10))\n",
    "print(diff21(21))"
   ]
  },
  {
   "cell_type": "markdown",
   "id": "5986089f",
   "metadata": {},
   "source": [
    "### near_hundred\n",
    "\n",
    "source: https://codingbat.com/prob/p124676\n",
    "\n",
    "\n",
    "Given an int n, return True if it is within 10 of 100 or 200. Note: abs(num) computes the absolute value of a number.\n",
    "\n",
    "near_hundred(93) → True\n",
    "\n",
    "near_hundred(90) → True\n",
    "\n",
    "near_hundred(89) → False"
   ]
  },
  {
   "cell_type": "code",
   "execution_count": 11,
   "id": "b3969bc5",
   "metadata": {},
   "outputs": [
    {
     "name": "stdout",
     "output_type": "stream",
     "text": [
      "True\n",
      "True\n",
      "False\n"
     ]
    }
   ],
   "source": [
    "def near_hundred(n):\n",
    "    if abs(100 - n) > 10 and abs(200 - n) > 10:\n",
    "        return False\n",
    "    else:\n",
    "        return True\n",
    "\n",
    "\n",
    "print(near_hundred(93))\n",
    "print(near_hundred(90))\n",
    "print(near_hundred(89))"
   ]
  },
  {
   "cell_type": "code",
   "execution_count": null,
   "id": "a98f6624",
   "metadata": {},
   "outputs": [],
   "source": []
  }
 ],
 "metadata": {
  "kernelspec": {
   "display_name": "Python 3 (ipykernel)",
   "language": "python",
   "name": "python3"
  },
  "language_info": {
   "codemirror_mode": {
    "name": "ipython",
    "version": 3
   },
   "file_extension": ".py",
   "mimetype": "text/x-python",
   "name": "python",
   "nbconvert_exporter": "python",
   "pygments_lexer": "ipython3",
   "version": "3.8.8"
  }
 },
 "nbformat": 4,
 "nbformat_minor": 5
}
