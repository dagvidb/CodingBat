{
 "cells": [
  {
   "cell_type": "markdown",
   "id": "3222e293",
   "metadata": {},
   "source": [
    "# Fun with CodingBat\n",
    "\n",
    "Here you can find my bad attempt at solutions to the CodingBat exercises for python. They can be found at codingbat.com/"
   ]
  },
  {
   "cell_type": "markdown",
   "id": "8154ffe4",
   "metadata": {},
   "source": [
    "## Warmup-1"
   ]
  },
  {
   "cell_type": "markdown",
   "id": "adeb1c83",
   "metadata": {},
   "source": [
    "### sleep_in\n",
    "\n",
    "source: https://codingbat.com/prob/p173401\n",
    "\n",
    "The parameter weekday is True if it is a weekday, and the parameter vacation is True if we are on vacation. We sleep in if it is not a weekday or we're on vacation. Return True if we sleep in.\n",
    "\n",
    "\n",
    "sleep_in(False, False) → True \n",
    "\n",
    "sleep_in(True, False) → False \n",
    "\n",
    "sleep_in(False, True) → True \n",
    "\n"
   ]
  },
  {
   "cell_type": "code",
   "execution_count": null,
   "id": "9e0e6a8c",
   "metadata": {},
   "outputs": [],
   "source": [
    "def sleep_in(weekday, vacation):\n",
    "    if not weekday or vacation:\n",
    "        return True\n",
    "    else:\n",
    "        return False\n",
    "\n",
    "\n",
    "print(sleep_in(False, False))\n",
    "print(sleep_in(True, False))\n",
    "print(sleep_in(False, True))"
   ]
  },
  {
   "cell_type": "markdown",
   "id": "606db033",
   "metadata": {},
   "source": [
    "### diff21\n",
    "source: https://codingbat.com/prob/p197466\n",
    "\n",
    "Given an int n, return the absolute difference between n and 21, except return double the absolute difference if n is over 21.\n",
    "\n",
    "diff21(19) → 2\n",
    "\n",
    "diff21(10) → 11\n",
    "\n",
    "diff21(21) → 0"
   ]
  },
  {
   "cell_type": "code",
   "execution_count": null,
   "id": "67a7f093",
   "metadata": {},
   "outputs": [],
   "source": [
    "def diff21(n):\n",
    "    if n > 21:\n",
    "        return 2 * abs(n - 21)\n",
    "    else:\n",
    "        return abs(n - 21)\n",
    "\n",
    "\n",
    "print(diff21(19))\n",
    "print(diff21(10))\n",
    "print(diff21(21))"
   ]
  },
  {
   "cell_type": "markdown",
   "id": "5986089f",
   "metadata": {},
   "source": [
    "### near_hundred\n",
    "\n",
    "source: https://codingbat.com/prob/p124676\n",
    "\n",
    "\n",
    "Given an int n, return True if it is within 10 of 100 or 200. Note: abs(num) computes the absolute value of a number.\n",
    "\n",
    "near_hundred(93) → True\n",
    "\n",
    "near_hundred(90) → True\n",
    "\n",
    "near_hundred(89) → False"
   ]
  },
  {
   "cell_type": "code",
   "execution_count": null,
   "id": "b3969bc5",
   "metadata": {},
   "outputs": [],
   "source": [
    "def near_hundred(n):\n",
    "    if abs(100 - n) > 10 and abs(200 - n) > 10:\n",
    "        return False\n",
    "    else:\n",
    "        return True\n",
    "\n",
    "\n",
    "print(near_hundred(93))\n",
    "print(near_hundred(90))\n",
    "print(near_hundred(89))"
   ]
  },
  {
   "cell_type": "markdown",
   "id": "fa916418",
   "metadata": {},
   "source": [
    "### missing_char\n",
    "\n",
    "source: https://codingbat.com/prob/p149524\n",
    "\n",
    "Given a non-empty string and an int n, return a new string where the char at index n has been removed. The value of n will be a valid index of a char in the original string (i.e. n will be in the range 0..len(str)-1 inclusive).\n",
    "\n",
    "\n",
    "missing_char('kitten', 1) → 'ktten'\n",
    "\n",
    "missing_char('kitten', 0) → 'itten'\n",
    "\n",
    "missing_char('kitten', 4) → 'kittn'"
   ]
  },
  {
   "cell_type": "code",
   "execution_count": 1,
   "id": "a316e0f0",
   "metadata": {},
   "outputs": [
    {
     "name": "stdout",
     "output_type": "stream",
     "text": [
      "ktten\n",
      "itten\n",
      "kittn\n"
     ]
    }
   ],
   "source": [
    "def missing_char(str, n):  # Shadow built-in name warning\n",
    "    return str[:n] + str[n + 1:]\n",
    "\n",
    "\n",
    "print(missing_char('kitten', 1))\n",
    "print(missing_char('kitten', 0))\n",
    "print(missing_char('kitten', 4))\n"
   ]
  },
  {
   "cell_type": "markdown",
   "id": "f63e6d11",
   "metadata": {},
   "source": [
    "### monkey_trouble\n",
    "\n",
    "source: https://codingbat.com/prob/p120546\n",
    "\n",
    "We have two monkeys, a and b, and the parameters a_smile and b_smile indicate if each is smiling. We are in trouble if they are both smiling or if neither of them is smiling. Return True if we are in trouble.\n",
    "\n",
    "\n",
    "monkey_trouble(True, True) → True\n",
    "\n",
    "monkey_trouble(False, False) → True\n",
    "\n",
    "monkey_trouble(True, False) → False"
   ]
  },
  {
   "cell_type": "code",
   "execution_count": 2,
   "id": "db517df9",
   "metadata": {},
   "outputs": [
    {
     "name": "stdout",
     "output_type": "stream",
     "text": [
      "True\n",
      "True\n",
      "False\n"
     ]
    }
   ],
   "source": [
    "def monkey_trouble(a_smile, b_smile):\n",
    "    return a_smile == b_smile\n",
    "\n",
    "\n",
    "print(monkey_trouble(True, True))\n",
    "print(monkey_trouble(False, False))\n",
    "print(monkey_trouble(True, False))"
   ]
  },
  {
   "cell_type": "markdown",
   "id": "2e885f28",
   "metadata": {},
   "source": [
    "### parrot_trouble\n",
    "\n",
    "source: https://codingbat.com/prob/p166884\n",
    "\n",
    "\n",
    "We have a loud talking parrot. The \"hour\" parameter is the current hour time in the range 0..23. We are in trouble if the parrot is talking and the hour is before 7 or after 20. Return True if we are in trouble.\n",
    "\n",
    "\n",
    "parrot_trouble(True, 6) → True\n",
    "\n",
    "parrot_trouble(True, 7) → False\n",
    "\n",
    "parrot_trouble(False, 6) → False"
   ]
  },
  {
   "cell_type": "code",
   "execution_count": 4,
   "id": "1cc464cf",
   "metadata": {},
   "outputs": [
    {
     "name": "stdout",
     "output_type": "stream",
     "text": [
      "True\n",
      "False\n",
      "False\n"
     ]
    }
   ],
   "source": [
    "def parrot_trouble(talking, hour):\n",
    "    if talking and (hour < 7 or hour > 20):\n",
    "        return True\n",
    "    else:\n",
    "        return False\n",
    "\n",
    "\n",
    "print(parrot_trouble(True, 6))\n",
    "print(parrot_trouble(True, 7))\n",
    "print(parrot_trouble(False, 6))\n",
    "    "
   ]
  },
  {
   "cell_type": "markdown",
   "id": "f7402606",
   "metadata": {},
   "source": [
    "### pos_neg\n",
    "\n",
    "source: https://codingbat.com/prob/p162058\n",
    "\n",
    "\n",
    "Given 2 int values, return True if one is negative and one is positive. Except if the parameter \"negative\" is True, then return True only if both are negative.\n",
    "\n",
    "\n",
    "pos_neg(1, -1, False) → True\n",
    "\n",
    "pos_neg(-1, 1, False) → True\n",
    "\n",
    "pos_neg(-4, -5, True) → True"
   ]
  },
  {
   "cell_type": "code",
   "execution_count": 4,
   "id": "aa891c41",
   "metadata": {},
   "outputs": [
    {
     "name": "stdout",
     "output_type": "stream",
     "text": [
      "True\n",
      "True\n",
      "False\n"
     ]
    }
   ],
   "source": [
    "def pos_neg(a, b, negative):\n",
    "    if (a * b < 0) and not negative:\n",
    "        return True\n",
    "    elif a < 0 and b < 0 and negative:\n",
    "        return True\n",
    "    else:\n",
    "        return False\n",
    "\n",
    "\n",
    "print(pos_neg(1, -1, False))\n",
    "print(pos_neg(-1, 1, False))\n",
    "print(pos_neg(-4, -5, False))\n",
    "   "
   ]
  },
  {
   "cell_type": "code",
   "execution_count": null,
   "id": "741d5dc3",
   "metadata": {},
   "outputs": [],
   "source": []
  }
 ],
 "metadata": {
  "kernelspec": {
   "display_name": "Python 3 (ipykernel)",
   "language": "python",
   "name": "python3"
  },
  "language_info": {
   "codemirror_mode": {
    "name": "ipython",
    "version": 3
   },
   "file_extension": ".py",
   "mimetype": "text/x-python",
   "name": "python",
   "nbconvert_exporter": "python",
   "pygments_lexer": "ipython3",
   "version": "3.8.8"
  }
 },
 "nbformat": 4,
 "nbformat_minor": 5
}
