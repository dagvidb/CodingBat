{
 "cells": [
  {
   "cell_type": "markdown",
   "id": "ab6979ab",
   "metadata": {},
   "source": [
    "# Fun with CodingBat\n",
    "\n",
    "Here you can find my bad attempt at solutions to the CodingBat exercises for python. They can be found at codingbat.com/"
   ]
  },
  {
   "cell_type": "markdown",
   "id": "b3cf362d",
   "metadata": {},
   "source": [
    "## Warmup-1"
   ]
  },
  {
   "cell_type": "markdown",
   "id": "132c7975",
   "metadata": {},
   "source": [
    "### sleep_in\n",
    "\n",
    "source: https://codingbat.com/prob/p173401\n",
    "\n",
    "The parameter weekday is True if it is a weekday, and the parameter vacation is True if we are on vacation. We sleep in if it is not a weekday or we're on vacation. Return True if we sleep in.\n",
    "\n",
    "\n",
    "sleep_in(False, False) → True \n",
    "\n",
    "sleep_in(True, False) → False \n",
    "\n",
    "sleep_in(False, True) → True \n",
    "\n"
   ]
  },
  {
   "cell_type": "code",
   "execution_count": 8,
   "id": "890ae996",
   "metadata": {},
   "outputs": [
    {
     "name": "stdout",
     "output_type": "stream",
     "text": [
      "True\n",
      "False\n",
      "True\n"
     ]
    }
   ],
   "source": [
    "def sleep_in(weekday, vacation):\n",
    "  if not weekday or vacation:\n",
    "    return True\n",
    "  else:\n",
    "    return False\n",
    "\n",
    "print(sleep_in(False,False))\n",
    "print(sleep_in(True,False))\n",
    "print(sleep_in(False,True))"
   ]
  },
  {
   "cell_type": "code",
   "execution_count": null,
   "id": "9394ec73",
   "metadata": {},
   "outputs": [],
   "source": []
  },
  {
   "cell_type": "code",
   "execution_count": null,
   "id": "adccc226",
   "metadata": {},
   "outputs": [],
   "source": []
  }
 ],
 "metadata": {
  "kernelspec": {
   "display_name": "Python 3 (ipykernel)",
   "language": "python",
   "name": "python3"
  },
  "language_info": {
   "codemirror_mode": {
    "name": "ipython",
    "version": 3
   },
   "file_extension": ".py",
   "mimetype": "text/x-python",
   "name": "python",
   "nbconvert_exporter": "python",
   "pygments_lexer": "ipython3",
   "version": "3.8.8"
  }
 },
 "nbformat": 4,
 "nbformat_minor": 5
}
