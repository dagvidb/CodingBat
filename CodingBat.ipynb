{
 "cells": [
  {
   "cell_type": "markdown",
   "id": "3222e293",
   "metadata": {},
   "source": [
    "# Fun with CodingBat\n",
    "\n",
    "Here you can find my bad attempt at solutions to the CodingBat exercises for python. They can be found at codingbat.com/"
   ]
  },
  {
   "cell_type": "markdown",
   "id": "8154ffe4",
   "metadata": {},
   "source": [
    "## Warmup-1"
   ]
  },
  {
   "cell_type": "markdown",
   "id": "adeb1c83",
   "metadata": {},
   "source": [
    "### sleep_in\n",
    "\n",
    "source: https://codingbat.com/prob/p173401\n",
    "\n",
    "The parameter weekday is True if it is a weekday, and the parameter vacation is True if we are on vacation. We sleep in if it is not a weekday or we're on vacation. Return True if we sleep in.\n",
    "\n",
    "\n",
    "sleep_in(False, False) → True \n",
    "\n",
    "sleep_in(True, False) → False \n",
    "\n",
    "sleep_in(False, True) → True \n",
    "\n"
   ]
  },
  {
   "cell_type": "code",
   "execution_count": null,
   "id": "9e0e6a8c",
   "metadata": {},
   "outputs": [],
   "source": [
    "def sleep_in(weekday, vacation):\n",
    "    if not weekday or vacation:\n",
    "        return True\n",
    "    else:\n",
    "        return False\n",
    "\n",
    "\n",
    "print(sleep_in(False, False))\n",
    "print(sleep_in(True, False))\n",
    "print(sleep_in(False, True))"
   ]
  },
  {
   "cell_type": "markdown",
   "id": "606db033",
   "metadata": {},
   "source": [
    "### diff21\n",
    "source: https://codingbat.com/prob/p197466\n",
    "\n",
    "Given an int n, return the absolute difference between n and 21, except return double the absolute difference if n is over 21.\n",
    "\n",
    "diff21(19) → 2\n",
    "\n",
    "diff21(10) → 11\n",
    "\n",
    "diff21(21) → 0"
   ]
  },
  {
   "cell_type": "code",
   "execution_count": null,
   "id": "67a7f093",
   "metadata": {},
   "outputs": [],
   "source": [
    "def diff21(n):\n",
    "    if n > 21:\n",
    "        return 2 * abs(n - 21)\n",
    "    else:\n",
    "        return abs(n - 21)\n",
    "\n",
    "\n",
    "print(diff21(19))\n",
    "print(diff21(10))\n",
    "print(diff21(21))"
   ]
  },
  {
   "cell_type": "markdown",
   "id": "5986089f",
   "metadata": {},
   "source": [
    "### near_hundred\n",
    "\n",
    "source: https://codingbat.com/prob/p124676\n",
    "\n",
    "\n",
    "Given an int n, return True if it is within 10 of 100 or 200. Note: abs(num) computes the absolute value of a number.\n",
    "\n",
    "near_hundred(93) → True\n",
    "\n",
    "near_hundred(90) → True\n",
    "\n",
    "near_hundred(89) → False"
   ]
  },
  {
   "cell_type": "code",
   "execution_count": null,
   "id": "b3969bc5",
   "metadata": {},
   "outputs": [],
   "source": [
    "def near_hundred(n):\n",
    "    if abs(100 - n) > 10 and abs(200 - n) > 10:\n",
    "        return False\n",
    "    else:\n",
    "        return True\n",
    "\n",
    "\n",
    "print(near_hundred(93))\n",
    "print(near_hundred(90))\n",
    "print(near_hundred(89))"
   ]
  },
  {
   "cell_type": "markdown",
   "id": "fa916418",
   "metadata": {},
   "source": [
    "### missing_char\n",
    "\n",
    "source: https://codingbat.com/prob/p149524\n",
    "\n",
    "Given a non-empty string and an int n, return a new string where the char at index n has been removed. The value of n will be a valid index of a char in the original string (i.e. n will be in the range 0..len(str)-1 inclusive).\n",
    "\n",
    "\n",
    "missing_char('kitten', 1) → 'ktten'\n",
    "\n",
    "missing_char('kitten', 0) → 'itten'\n",
    "\n",
    "missing_char('kitten', 4) → 'kittn'"
   ]
  },
  {
   "cell_type": "code",
   "execution_count": 24,
   "id": "a316e0f0",
   "metadata": {},
   "outputs": [
    {
     "name": "stdout",
     "output_type": "stream",
     "text": [
      "ktten\n",
      "itten\n",
      "kittn\n"
     ]
    }
   ],
   "source": [
    "def missing_char(str, n):  # Shadow built-in name warning\n",
    "    return str[:n] + str[n + 1:]\n",
    "\n",
    "\n",
    "print(missing_char('kitten', 1))\n",
    "print(missing_char('kitten', 0))\n",
    "print(missing_char('kitten', 4))"
   ]
  },
  {
   "cell_type": "markdown",
   "id": "f63e6d11",
   "metadata": {},
   "source": [
    "### monkey_trouble\n",
    "\n",
    "source: https://codingbat.com/prob/p120546\n",
    "\n",
    "We have two monkeys, a and b, and the parameters a_smile and b_smile indicate if each is smiling. We are in trouble if they are both smiling or if neither of them is smiling. Return True if we are in trouble.\n",
    "\n",
    "\n",
    "monkey_trouble(True, True) → True\n",
    "\n",
    "monkey_trouble(False, False) → True\n",
    "\n",
    "monkey_trouble(True, False) → False"
   ]
  },
  {
   "cell_type": "code",
   "execution_count": 2,
   "id": "db517df9",
   "metadata": {},
   "outputs": [
    {
     "name": "stdout",
     "output_type": "stream",
     "text": [
      "True\n",
      "True\n",
      "False\n"
     ]
    }
   ],
   "source": [
    "def monkey_trouble(a_smile, b_smile):\n",
    "    return a_smile == b_smile\n",
    "\n",
    "\n",
    "print(monkey_trouble(True, True))\n",
    "print(monkey_trouble(False, False))\n",
    "print(monkey_trouble(True, False))"
   ]
  },
  {
   "cell_type": "markdown",
   "id": "2e885f28",
   "metadata": {},
   "source": [
    "### parrot_trouble\n",
    "\n",
    "source: https://codingbat.com/prob/p166884\n",
    "\n",
    "\n",
    "We have a loud talking parrot. The \"hour\" parameter is the current hour time in the range 0..23. We are in trouble if the parrot is talking and the hour is before 7 or after 20. Return True if we are in trouble.\n",
    "\n",
    "\n",
    "parrot_trouble(True, 6) → True\n",
    "\n",
    "parrot_trouble(True, 7) → False\n",
    "\n",
    "parrot_trouble(False, 6) → False"
   ]
  },
  {
   "cell_type": "code",
   "execution_count": 23,
   "id": "1cc464cf",
   "metadata": {},
   "outputs": [
    {
     "name": "stdout",
     "output_type": "stream",
     "text": [
      "True\n",
      "False\n",
      "False\n"
     ]
    }
   ],
   "source": [
    "def parrot_trouble(talking, hour):\n",
    "    if talking and (hour < 7 or hour > 20):\n",
    "        return True\n",
    "    else:\n",
    "        return False\n",
    "\n",
    "\n",
    "print(parrot_trouble(True, 6))\n",
    "print(parrot_trouble(True, 7))\n",
    "print(parrot_trouble(False, 6))"
   ]
  },
  {
   "cell_type": "markdown",
   "id": "e86b6ad1",
   "metadata": {},
   "source": [
    "### pos_neg\n",
    "\n",
    "source: https://codingbat.com/prob/p162058\n",
    "\n",
    "\n",
    "Given 2 int values, return True if one is negative and one is positive. Except if the parameter \"negative\" is True, then return True only if both are negative.\n",
    "\n",
    "\n",
    "pos_neg(1, -1, False) → True\n",
    "\n",
    "pos_neg(-1, 1, False) → True\n",
    "\n",
    "pos_neg(-4, -5, True) → True"
   ]
  },
  {
   "cell_type": "code",
   "execution_count": 22,
   "id": "ccccd6da",
   "metadata": {
    "scrolled": true
   },
   "outputs": [
    {
     "name": "stdout",
     "output_type": "stream",
     "text": [
      "True\n",
      "True\n",
      "True\n"
     ]
    }
   ],
   "source": [
    "def pos_neg(a, b, negative):\n",
    "    if (a * b < 0) and not negative:\n",
    "        return True\n",
    "    elif a < 0 and b < 0 and negative:\n",
    "        return True\n",
    "    else:\n",
    "        return False\n",
    "\n",
    "\n",
    "print(pos_neg(1, -1, False))\n",
    "print(pos_neg(-1, 1, False))\n",
    "print(pos_neg(-4, -5, True)) "
   ]
  },
  {
   "cell_type": "markdown",
   "id": "83c4ca22",
   "metadata": {},
   "source": [
    "### front_back\n",
    "\n",
    "source: https://codingbat.com/prob/p153599\n",
    "\n",
    "Given a string, return a new string where the first and last chars have been exchanged.\n",
    "\n",
    "\n",
    "front_back('code') → 'eodc'\n",
    "\n",
    "front_back('a') → 'a'\n",
    "\n",
    "front_back('ab') → 'ba'"
   ]
  },
  {
   "cell_type": "code",
   "execution_count": 25,
   "id": "260a214c",
   "metadata": {},
   "outputs": [
    {
     "name": "stdout",
     "output_type": "stream",
     "text": [
      "eodc\n",
      "a\n",
      "ba\n"
     ]
    }
   ],
   "source": [
    "def front_back(str):\n",
    "    n = len(str)\n",
    "    if n > 1:\n",
    "        return str[-1] + str[1:-1] + str[0]\n",
    "    else:\n",
    "        return str\n",
    "\n",
    "print(front_back('code'))\n",
    "print(front_back('a'))\n",
    "print(front_back('ab'))"
   ]
  },
  {
   "cell_type": "markdown",
   "id": "0761da7b",
   "metadata": {},
   "source": [
    "### sum_double\n",
    "\n",
    "source: https://codingbat.com/prob/p141905\n",
    "\n",
    "Given two int values, return their sum. Unless the two values are the same, then return double their sum.\n",
    "\n",
    "\n",
    "sum_double(1, 2) → 3\n",
    "\n",
    "sum_double(3, 2) → 5\n",
    "\n",
    "sum_double(2, 2) → 8\n"
   ]
  },
  {
   "cell_type": "code",
   "execution_count": 19,
   "id": "a60cced3",
   "metadata": {},
   "outputs": [
    {
     "name": "stdout",
     "output_type": "stream",
     "text": [
      "3\n",
      "5\n",
      "8\n"
     ]
    }
   ],
   "source": [
    "def sum_double(a, b):\n",
    "    if a == b:\n",
    "        return 4 * a\n",
    "    else:\n",
    "        return a + b\n",
    "\n",
    "print(sum_double(1,2))\n",
    "print(sum_double(3,2))\n",
    "print(sum_double(2,2))"
   ]
  },
  {
   "cell_type": "markdown",
   "id": "9b6cb50f",
   "metadata": {},
   "source": [
    "### makes_ten\n",
    "\n",
    "source: https://codingbat.com/prob/p124984\n",
    "\n",
    "Given 2 ints, a and b, return True if one if them is 10 or if their sum is 10.\n",
    "\n",
    "\n",
    "makes10(9, 10) → True\n",
    "\n",
    "makes10(9, 9) → False\n",
    "\n",
    "makes10(1, 9) → True"
   ]
  },
  {
   "cell_type": "code",
   "execution_count": 17,
   "id": "4a9631cb",
   "metadata": {},
   "outputs": [
    {
     "name": "stdout",
     "output_type": "stream",
     "text": [
      "True\n",
      "False\n",
      "True\n"
     ]
    }
   ],
   "source": [
    "def makes10(a, b):\n",
    "    if a == 10 or b == 10 or a + b == 10:\n",
    "        return True\n",
    "    else:\n",
    "        return False\n",
    "\n",
    "print(makes10(9, 10))\n",
    "print(makes10(9, 9))\n",
    "print(makes10(1, 9))"
   ]
  },
  {
   "cell_type": "markdown",
   "id": "d3bfdf15",
   "metadata": {},
   "source": [
    "### not_string\n",
    "\n",
    "source: https://codingbat.com/prob/p189441\n",
    "\n",
    "\n",
    "Given a string, return a new string where \"not \" has been added to the front. However, if the string already begins with \"not\", return the string unchanged.\n",
    "\n",
    "\n",
    "not_string('candy') → 'not candy'\n",
    "\n",
    "not_string('x') → 'not x'\n",
    "\n",
    "not_string('not bad') → 'not bad'"
   ]
  },
  {
   "cell_type": "code",
   "execution_count": 16,
   "id": "44b502ae",
   "metadata": {},
   "outputs": [
    {
     "name": "stdout",
     "output_type": "stream",
     "text": [
      "not candy\n",
      "not x\n",
      "not bad\n"
     ]
    }
   ],
   "source": [
    "def not_string(str):\n",
    "    if str[0:3] == \"not\":\n",
    "        return str\n",
    "    else:\n",
    "        return \"not\" + \" \" + str\n",
    "    \n",
    "print(not_string('candy'))\n",
    "print(not_string('x'))\n",
    "print(not_string('not bad'))"
   ]
  },
  {
   "cell_type": "markdown",
   "id": "4bd1f122",
   "metadata": {},
   "source": [
    "### front3\n",
    "\n",
    "source: https://codingbat.com/prob/p147920\n",
    "\n",
    "Given a string, we'll say that the front is the first 3 chars of the string. If the string length is less than 3, the front is whatever is there. Return a new string which is 3 copies of the front.\n",
    "\n",
    "\n",
    "front3('Java') → 'JavJavJav'\n",
    "\n",
    "front3('Chocolate') → 'ChoChoCho'\n",
    "\n",
    "front3('abc') → 'abcabcabc'"
   ]
  },
  {
   "cell_type": "code",
   "execution_count": 14,
   "id": "6521aa4a",
   "metadata": {},
   "outputs": [
    {
     "name": "stdout",
     "output_type": "stream",
     "text": [
      "JavJavJav\n",
      "ChoChoCho\n",
      "abcabcabc\n"
     ]
    }
   ],
   "source": [
    "def front3(str):\n",
    "    return 3 * str[0:3]\n",
    "\n",
    "print(front3('Java'))\n",
    "print(front3('Chocolate'))\n",
    "print(front3('abc'))"
   ]
  },
  {
   "cell_type": "code",
   "execution_count": null,
   "id": "e99e6d13",
   "metadata": {},
   "outputs": [],
   "source": []
  },
  {
   "cell_type": "code",
   "execution_count": null,
   "id": "8a076a9a",
   "metadata": {},
   "outputs": [],
   "source": []
  }
 ],
 "metadata": {
  "kernelspec": {
   "display_name": "Python 3 (ipykernel)",
   "language": "python",
   "name": "python3"
  },
  "language_info": {
   "codemirror_mode": {
    "name": "ipython",
    "version": 3
   },
   "file_extension": ".py",
   "mimetype": "text/x-python",
   "name": "python",
   "nbconvert_exporter": "python",
   "pygments_lexer": "ipython3",
   "version": "3.8.8"
  }
 },
 "nbformat": 4,
 "nbformat_minor": 5
}
